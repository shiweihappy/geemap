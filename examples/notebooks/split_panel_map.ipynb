{
 "cells": [
  {
   "cell_type": "code",
   "execution_count": 1,
   "metadata": {},
   "outputs": [],
   "source": [
    "import geemap"
   ]
  },
  {
   "cell_type": "code",
   "execution_count": 2,
   "metadata": {},
   "outputs": [
    {
     "data": {
      "application/vnd.jupyter.widget-view+json": {
       "model_id": "7e2488d9e229430ea75b91851f69bdf5",
       "version_major": 2,
       "version_minor": 0
      },
      "text/plain": [
       "Map(center=[40, -100], controls=(ZoomControl(options=['position', 'zoom_in_text', 'zoom_in_title', 'zoom_out_t…"
      ]
     },
     "metadata": {},
     "output_type": "display_data"
    }
   ],
   "source": [
    "Map = geemap.Map()\n",
    "Map.split_map()\n",
    "Map"
   ]
  },
  {
   "cell_type": "code",
   "execution_count": 3,
   "metadata": {},
   "outputs": [
    {
     "data": {
      "application/vnd.jupyter.widget-view+json": {
       "model_id": "e077bad0ec1c466ea7df4a86ff17f2ed",
       "version_major": 2,
       "version_minor": 0
      },
      "text/plain": [
       "Map(center=[40, -100], controls=(ZoomControl(options=['position', 'zoom_in_text', 'zoom_in_title', 'zoom_out_t…"
      ]
     },
     "metadata": {},
     "output_type": "display_data"
    }
   ],
   "source": [
    "Map = geemap.Map()\n",
    "Map.split_map(left_layer='HYBRID', right_layer='ROADMAP')\n",
    "Map"
   ]
  },
  {
   "cell_type": "code",
   "execution_count": 9,
   "metadata": {},
   "outputs": [
    {
     "name": "stdout",
     "output_type": "stream",
     "text": [
      "dict_keys(['ROADMAP', 'SATELLITE', 'TERRAIN', 'HYBRID', 'ESRI', 'Esri Ocean', 'Esri Satellite', 'Esri Standard', 'Esri Terrain', 'Esri Transportation', 'Esri Topo World', 'Esri National Geographic', 'Esri Shaded Relief', 'Esri Physical Map', 'FWS NWI Wetlands', 'FWS NWI Wetlands Raster', 'Google Maps', 'Google Satellite', 'Google Terrain', 'Google Satellite Hybrid', 'NLCD 2016 CONUS Land Cover', 'NLCD 2013 CONUS Land Cover', 'NLCD 2011 CONUS Land Cover', 'NLCD 2008 CONUS Land Cover', 'NLCD 2006 CONUS Land Cover', 'NLCD 2004 CONUS Land Cover', 'NLCD 2001 CONUS Land Cover', 'USGS NAIP Imagery', 'USGS Hydrography', 'USGS 3DEP Elevation', 'OpenStreetMap.Mapnik', 'OpenStreetMap.BlackAndWhite', 'OpenStreetMap.DE', 'OpenStreetMap.France', 'OpenStreetMap.HOT', 'OpenTopoMap', 'Hydda.Full', 'Hydda.Base', 'Esri.WorldStreetMap', 'Esri.DeLorme', 'Esri.WorldTopoMap', 'Esri.WorldImagery', 'Esri.NatGeoWorldMap', 'HikeBike.HikeBike', 'MtbMap', 'CartoDB.Positron', 'CartoDB.DarkMatter', 'NASAGIBS.ModisTerraTrueColorCR', 'NASAGIBS.ModisTerraBands367CR', 'NASAGIBS.MidsTerraBands721CR', 'NASAGIBS.ModisAquaTrueColorCR', 'NASAGIBS.ModisAquaBands721CR', 'NASAGIBS.ViirsTrueColorCR', 'NASAGIBS.ViirsEarthAtNight2012', 'Strava.All', 'Strava.Ride', 'Strava.Run', 'Strava.Water', 'Strava.Winter', 'Stamen.Terrain', 'Stamen.Toner', 'Stamen.Watercolor'])\n"
     ]
    }
   ],
   "source": [
    "basemaps = geemap.ee_basemaps.keys()\n",
    "print(basemaps)"
   ]
  },
  {
   "cell_type": "code",
   "execution_count": 10,
   "metadata": {},
   "outputs": [
    {
     "name": "stdout",
     "output_type": "stream",
     "text": [
      "ROADMAP\n",
      "SATELLITE\n",
      "TERRAIN\n",
      "HYBRID\n",
      "ESRI\n",
      "Esri Ocean\n",
      "Esri Satellite\n",
      "Esri Standard\n",
      "Esri Terrain\n",
      "Esri Transportation\n",
      "Esri Topo World\n",
      "Esri National Geographic\n",
      "Esri Shaded Relief\n",
      "Esri Physical Map\n",
      "FWS NWI Wetlands\n",
      "FWS NWI Wetlands Raster\n",
      "Google Maps\n",
      "Google Satellite\n",
      "Google Terrain\n",
      "Google Satellite Hybrid\n",
      "NLCD 2016 CONUS Land Cover\n",
      "NLCD 2013 CONUS Land Cover\n",
      "NLCD 2011 CONUS Land Cover\n",
      "NLCD 2008 CONUS Land Cover\n",
      "NLCD 2006 CONUS Land Cover\n",
      "NLCD 2004 CONUS Land Cover\n",
      "NLCD 2001 CONUS Land Cover\n",
      "USGS NAIP Imagery\n",
      "USGS Hydrography\n",
      "USGS 3DEP Elevation\n",
      "OpenStreetMap.Mapnik\n",
      "OpenStreetMap.BlackAndWhite\n",
      "OpenStreetMap.DE\n",
      "OpenStreetMap.France\n",
      "OpenStreetMap.HOT\n",
      "OpenTopoMap\n",
      "Hydda.Full\n",
      "Hydda.Base\n",
      "Esri.WorldStreetMap\n",
      "Esri.DeLorme\n",
      "Esri.WorldTopoMap\n",
      "Esri.WorldImagery\n",
      "Esri.NatGeoWorldMap\n",
      "HikeBike.HikeBike\n",
      "MtbMap\n",
      "CartoDB.Positron\n",
      "CartoDB.DarkMatter\n",
      "NASAGIBS.ModisTerraTrueColorCR\n",
      "NASAGIBS.ModisTerraBands367CR\n",
      "NASAGIBS.MidsTerraBands721CR\n",
      "NASAGIBS.ModisAquaTrueColorCR\n",
      "NASAGIBS.ModisAquaBands721CR\n",
      "NASAGIBS.ViirsTrueColorCR\n",
      "NASAGIBS.ViirsEarthAtNight2012\n",
      "Strava.All\n",
      "Strava.Ride\n",
      "Strava.Run\n",
      "Strava.Water\n",
      "Strava.Winter\n",
      "Stamen.Terrain\n",
      "Stamen.Toner\n",
      "Stamen.Watercolor\n"
     ]
    }
   ],
   "source": [
    "for basemap in basemaps:\n",
    "    print(basemap)"
   ]
  },
  {
   "cell_type": "code",
   "execution_count": 5,
   "metadata": {},
   "outputs": [
    {
     "data": {
      "application/vnd.jupyter.widget-view+json": {
       "model_id": "b748f8e13aef45309e32551117edca13",
       "version_major": 2,
       "version_minor": 0
      },
      "text/plain": [
       "Map(center=[40, -100], controls=(ZoomControl(options=['position', 'zoom_in_text', 'zoom_in_title', 'zoom_out_t…"
      ]
     },
     "metadata": {},
     "output_type": "display_data"
    }
   ],
   "source": [
    "Map = geemap.Map()\n",
    "Map.split_map(left_layer='NLCD 2016 CONUS Land Cover', right_layer='NLCD 2001 CONUS Land Cover')\n",
    "Map"
   ]
  },
  {
   "cell_type": "code",
   "execution_count": 6,
   "metadata": {},
   "outputs": [],
   "source": [
    "import ee"
   ]
  },
  {
   "cell_type": "code",
   "execution_count": 7,
   "metadata": {},
   "outputs": [
    {
     "name": "stdout",
     "output_type": "stream",
     "text": [
      "['USGS/NLCD/NLCD1992', 'USGS/NLCD/NLCD2001', 'USGS/NLCD/NLCD2001_AK', 'USGS/NLCD/NLCD2001_HI', 'USGS/NLCD/NLCD2001_PR', 'USGS/NLCD/NLCD2004', 'USGS/NLCD/NLCD2006', 'USGS/NLCD/NLCD2008', 'USGS/NLCD/NLCD2011', 'USGS/NLCD/NLCD2011_AK', 'USGS/NLCD/NLCD2011_HI', 'USGS/NLCD/NLCD2011_PR', 'USGS/NLCD/NLCD2013', 'USGS/NLCD/NLCD2016']\n"
     ]
    }
   ],
   "source": [
    "# https://developers.google.com/earth-engine/datasets/catalog/USGS_NLCD\n",
    "collection = ee.ImageCollection(\"USGS/NLCD\")\n",
    "print(collection.aggregate_array('system:id').getInfo())"
   ]
  },
  {
   "cell_type": "code",
   "execution_count": 8,
   "metadata": {},
   "outputs": [
    {
     "data": {
      "application/vnd.jupyter.widget-view+json": {
       "model_id": "0f529b6659b14401a294c92adc419b78",
       "version_major": 2,
       "version_minor": 0
      },
      "text/plain": [
       "Map(center=[40, -100], controls=(ZoomControl(options=['position', 'zoom_in_text', 'zoom_in_title', 'zoom_out_t…"
      ]
     },
     "metadata": {},
     "output_type": "display_data"
    }
   ],
   "source": [
    "nlcd_2001 = ee.Image('USGS/NLCD/NLCD2001').select('landcover')\n",
    "nlcd_2016 = ee.Image('USGS/NLCD/NLCD2016').select('landcover')\n",
    "\n",
    "left_layer = geemap.ee_tile_layer(nlcd_2001, {}, 'NLCD 2001')\n",
    "right_layer = geemap.ee_tile_layer(nlcd_2016, {}, 'NLCD 2016')\n",
    "\n",
    "Map = geemap.Map()\n",
    "Map.split_map(left_layer, right_layer)\n",
    "Map"
   ]
  },
  {
   "cell_type": "code",
   "execution_count": null,
   "metadata": {},
   "outputs": [],
   "source": []
  }
 ],
 "metadata": {
  "kernelspec": {
   "display_name": "Python 3",
   "language": "python",
   "name": "python3"
  },
  "language_info": {
   "codemirror_mode": {
    "name": "ipython",
    "version": 3
   },
   "file_extension": ".py",
   "mimetype": "text/x-python",
   "name": "python",
   "nbconvert_exporter": "python",
   "pygments_lexer": "ipython3",
   "version": "3.8.2"
  }
 },
 "nbformat": 4,
 "nbformat_minor": 4
}
